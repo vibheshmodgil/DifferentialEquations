{
 "cells": [
  {
   "cell_type": "code",
   "execution_count": 1,
   "id": "0edae801",
   "metadata": {},
   "outputs": [],
   "source": [
    "import numpy as np\n",
    "import matplotlib.pyplot as plt\n",
    "from scipy.special import i0\n",
    "import pandas as pd\n",
    "import sympy as sp\n",
    "import mpmath as mp\n",
    "%matplotlib inline"
   ]
  },
  {
   "cell_type": "code",
   "execution_count": 2,
   "id": "5bc6ff12",
   "metadata": {},
   "outputs": [],
   "source": [
    "Tz1, Tz2, Ty1, q, k, x , y , z, L1 , L2 , L3 = sp.symbols('Tz1, Tz2, Ty1, q, k, x , y , z, L1 , L2 , L3') # Defining the symbols\n",
    "n,m = sp.symbols('n m', integer = True) # Defining the m and as integers for the simplifications of solution"
   ]
  },
  {
   "cell_type": "code",
   "execution_count": 3,
   "id": "f0589f9c",
   "metadata": {},
   "outputs": [
    {
     "data": {
      "text/latex": [
       "$\\displaystyle Tz_{1} + \\frac{q z \\left(L_{3} - z\\right)}{2 k} + \\frac{z \\left(- Tz_{1} + Tz_{2}\\right)}{L_{3}}$"
      ],
      "text/plain": [
       "Tz1 + q*z*(L3 - z)/(2*k) + z*(-Tz1 + Tz2)/L3"
      ]
     },
     "execution_count": 3,
     "metadata": {},
     "output_type": "execute_result"
    }
   ],
   "source": [
    "V_z = (Tz1 + (q/(2*k))*z*(L3-z) + (Tz2-Tz1)*(z/L3))\n",
    "V_z"
   ]
  },
  {
   "cell_type": "code",
   "execution_count": 4,
   "id": "e74c5e7b",
   "metadata": {},
   "outputs": [
    {
     "data": {
      "text/latex": [
       "$\\displaystyle \\left(Ty_{1} - Tz_{1} - \\frac{q z \\left(L_{3} - z\\right)}{2 k} - \\frac{z \\left(- Tz_{1} + Tz_{2}\\right)}{L_{3}}\\right) \\sin{\\left(\\frac{\\pi n x}{L_{1}} \\right)} \\sin{\\left(\\frac{\\pi m z}{L_{3}} \\right)}$"
      ],
      "text/plain": [
       "(Ty1 - Tz1 - q*z*(L3 - z)/(2*k) - z*(-Tz1 + Tz2)/L3)*sin(pi*n*x/L1)*sin(pi*m*z/L3)"
      ]
     },
     "execution_count": 4,
     "metadata": {},
     "output_type": "execute_result"
    }
   ],
   "source": [
    "f = (Ty1-V_z)*sp.sin(n*sp.pi*x/L1)*sp.sin((m*sp.pi*z)/L3)\n",
    "f"
   ]
  },
  {
   "cell_type": "code",
   "execution_count": 5,
   "id": "561b55cd",
   "metadata": {},
   "outputs": [],
   "source": [
    "final_expr = (4/(L1*L3))*sp.integrate(f, (x, 0, L1), (z, 0, L3))\n"
   ]
  },
  {
   "cell_type": "code",
   "execution_count": 6,
   "id": "3766db72",
   "metadata": {},
   "outputs": [
    {
     "data": {
      "text/latex": [
       "$\\displaystyle \\frac{4 \\left(\\begin{cases} \\frac{\\left(-1\\right)^{n} L_{1} \\left(\\frac{L_{3}^{3} q}{\\pi^{3} k m^{3}} - \\frac{L_{3} Ty_{1}}{\\pi m} + \\frac{L_{3} Tz_{1}}{\\pi m}\\right)}{\\pi n} - \\frac{\\left(-1\\right)^{n} L_{1} \\left(\\frac{\\left(-1\\right)^{m} L_{3}^{3} q}{\\pi^{3} k m^{3}} - \\frac{\\left(-1\\right)^{m} L_{3} Ty_{1}}{\\pi m} + \\frac{\\left(-1\\right)^{m} L_{3} Tz_{2}}{\\pi m}\\right)}{\\pi n} - \\frac{L_{1} \\left(\\frac{L_{3}^{3} q}{\\pi^{3} k m^{3}} - \\frac{L_{3} Ty_{1}}{\\pi m} + \\frac{L_{3} Tz_{1}}{\\pi m}\\right)}{\\pi n} + \\frac{L_{1} \\left(\\frac{\\left(-1\\right)^{m} L_{3}^{3} q}{\\pi^{3} k m^{3}} - \\frac{\\left(-1\\right)^{m} L_{3} Ty_{1}}{\\pi m} + \\frac{\\left(-1\\right)^{m} L_{3} Tz_{2}}{\\pi m}\\right)}{\\pi n} & \\text{for}\\: m \\neq 0 \\wedge \\frac{\\pi n}{L_{1}} \\neq 0 \\\\0 & \\text{otherwise} \\end{cases}\\right)}{L_{1} L_{3}}$"
      ],
      "text/plain": [
       "4*Piecewise(((-1)**n*L1*(L3**3*q/(pi**3*k*m**3) - L3*Ty1/(pi*m) + L3*Tz1/(pi*m))/(pi*n) - (-1)**n*L1*((-1)**m*L3**3*q/(pi**3*k*m**3) - (-1)**m*L3*Ty1/(pi*m) + (-1)**m*L3*Tz2/(pi*m))/(pi*n) - L1*(L3**3*q/(pi**3*k*m**3) - L3*Ty1/(pi*m) + L3*Tz1/(pi*m))/(pi*n) + L1*((-1)**m*L3**3*q/(pi**3*k*m**3) - (-1)**m*L3*Ty1/(pi*m) + (-1)**m*L3*Tz2/(pi*m))/(pi*n), Ne(m, 0) & Ne(pi*n/L1, 0)), (0, True))/(L1*L3)"
      ]
     },
     "execution_count": 6,
     "metadata": {},
     "output_type": "execute_result"
    }
   ],
   "source": [
    "final_expr"
   ]
  },
  {
   "cell_type": "code",
   "execution_count": 7,
   "id": "51395b12",
   "metadata": {},
   "outputs": [
    {
     "data": {
      "text/latex": [
       "$\\displaystyle \\begin{cases} \\frac{4 \\left(\\left(-1\\right)^{m} \\left(L_{3}^{2} q - \\pi^{2} k m^{2} \\left(Ty_{1} - Tz_{2}\\right)\\right) + \\left(-1\\right)^{n} \\left(L_{3}^{2} q - \\pi^{2} k m^{2} \\left(Ty_{1} - Tz_{1}\\right)\\right) + \\left(-1\\right)^{m + n} \\left(- L_{3}^{2} q + \\pi^{2} k m^{2} \\left(Ty_{1} - Tz_{2}\\right)\\right) - L_{3}^{2} q + \\pi^{2} k m^{2} \\left(Ty_{1} - Tz_{1}\\right)\\right)}{\\pi^{4} k m^{3} n} & \\text{for}\\: m \\neq 0 \\wedge \\frac{\\pi n}{L_{1}} \\neq 0 \\\\0 & \\text{otherwise} \\end{cases}$"
      ],
      "text/plain": [
       "Piecewise((4*((-1)**m*(L3**2*q - pi**2*k*m**2*(Ty1 - Tz2)) + (-1)**n*(L3**2*q - pi**2*k*m**2*(Ty1 - Tz1)) + (-1)**(m + n)*(-L3**2*q + pi**2*k*m**2*(Ty1 - Tz2)) - L3**2*q + pi**2*k*m**2*(Ty1 - Tz1))/(pi**4*k*m**3*n), Ne(m, 0) & Ne(pi*n/L1, 0)), (0, True))"
      ]
     },
     "execution_count": 7,
     "metadata": {},
     "output_type": "execute_result"
    }
   ],
   "source": [
    "sp.simplify(final_expr)"
   ]
  },
  {
   "cell_type": "code",
   "execution_count": 8,
   "id": "d08f3ff4",
   "metadata": {},
   "outputs": [
    {
     "data": {
      "text/latex": [
       "$\\displaystyle \\frac{L_{3}^{3} q \\left(\\left(-1\\right)^{m} + \\left(-1\\right)^{n} + \\left(-1\\right)^{m + n} - 1\\right)}{\\pi^{4} k m^{3} n}$"
      ],
      "text/plain": [
       "L3**3*q*((-1)**m + (-1)**n + (-1)**(m + n) - 1)/(pi**4*k*m**3*n)"
      ]
     },
     "execution_count": 8,
     "metadata": {},
     "output_type": "execute_result"
    }
   ],
   "source": [
    "term1 = (q*L3**3)*(((-1)**m)+(-1)**n+(-1)**(m+n)-1)/((sp.pi**4)*(m**3)*k*n)\n",
    "term1"
   ]
  },
  {
   "cell_type": "code",
   "execution_count": 9,
   "id": "7656dd0d",
   "metadata": {},
   "outputs": [
    {
     "data": {
      "text/latex": [
       "$\\displaystyle \\frac{Ty_{1} \\left(- \\left(-1\\right)^{m} - \\left(-1\\right)^{n} + \\left(-1\\right)^{m + n} + 1\\right)}{\\pi^{2} m n}$"
      ],
      "text/plain": [
       "Ty1*(-(-1)**m - (-1)**n + (-1)**(m + n) + 1)/(pi**2*m*n)"
      ]
     },
     "execution_count": 9,
     "metadata": {},
     "output_type": "execute_result"
    }
   ],
   "source": [
    "term2 = (Ty1)*((-(-1)**m)-(-1)**n+(-1)**(m+n)+1)/((sp.pi**2)*m*n)\n",
    "term2"
   ]
  },
  {
   "cell_type": "code",
   "execution_count": 10,
   "id": "d6f1cd68",
   "metadata": {},
   "outputs": [
    {
     "data": {
      "text/latex": [
       "$\\displaystyle \\frac{Tz_{1} \\left(\\left(-1\\right)^{n} - 1\\right)}{\\pi^{2} m n}$"
      ],
      "text/plain": [
       "Tz1*((-1)**n - 1)/(pi**2*m*n)"
      ]
     },
     "execution_count": 10,
     "metadata": {},
     "output_type": "execute_result"
    }
   ],
   "source": [
    "term3 = (Tz1)*((-1)**n-1)/((sp.pi**2)*m*n)\n",
    "term3"
   ]
  },
  {
   "cell_type": "code",
   "execution_count": 11,
   "id": "db9c05e2",
   "metadata": {},
   "outputs": [
    {
     "data": {
      "text/latex": [
       "$\\displaystyle \\frac{Tz_{2} \\left(\\left(-1\\right)^{m} - \\left(-1\\right)^{m + n}\\right)}{\\pi^{2} m n}$"
      ],
      "text/plain": [
       "Tz2*((-1)**m - (-1)**(m + n))/(pi**2*m*n)"
      ]
     },
     "execution_count": 11,
     "metadata": {},
     "output_type": "execute_result"
    }
   ],
   "source": [
    "term4 = (Tz2)*((-1)**m-(-1)**(m+n))/((sp.pi**2)*m*n)\n",
    "term4"
   ]
  },
  {
   "cell_type": "code",
   "execution_count": 12,
   "id": "f2fde5b7",
   "metadata": {},
   "outputs": [
    {
     "data": {
      "text/latex": [
       "$\\displaystyle \\frac{L_{3}^{3} q \\left(\\left(-1\\right)^{m} + \\left(-1\\right)^{n} + \\left(-1\\right)^{m + n} - 1\\right) + \\pi^{2} k m^{2} \\left(- Ty_{1} \\left(\\left(-1\\right)^{m} + \\left(-1\\right)^{n} - \\left(-1\\right)^{m + n} - 1\\right) + Tz_{1} \\left(\\left(-1\\right)^{n} - 1\\right) + Tz_{2} \\left(\\left(-1\\right)^{m} - \\left(-1\\right)^{m + n}\\right)\\right)}{\\pi^{4} k m^{3} n}$"
      ],
      "text/plain": [
       "(L3**3*q*((-1)**m + (-1)**n + (-1)**(m + n) - 1) + pi**2*k*m**2*(-Ty1*((-1)**m + (-1)**n - (-1)**(m + n) - 1) + Tz1*((-1)**n - 1) + Tz2*((-1)**m - (-1)**(m + n))))/(pi**4*k*m**3*n)"
      ]
     },
     "execution_count": 12,
     "metadata": {},
     "output_type": "execute_result"
    }
   ],
   "source": [
    "amn = term1 + term2 + term3 + term4\n",
    "sp.simplify(amn)"
   ]
  },
  {
   "cell_type": "code",
   "execution_count": 13,
   "id": "37e71d5e",
   "metadata": {},
   "outputs": [],
   "source": [
    "def amn(Ty1,Tz1,Tz2,L3,k,q,m,n):\n",
    "    term1 = (q*L3**3)*(((-1)**m)+(-1)**n+(-1)**(m+n)-1)/((np.pi**4)*(m**3)*k*n)\n",
    "    term2 = (Ty1)*((-(-1)**m)-(-1)**n+(-1)**(m+n)+1)/((np.pi**2)*m*n)\n",
    "    term3 = (Tz1)*((-1)**n-1)/((np.pi**2)*m*n)\n",
    "    term4 = (Tz2)*((-1)**m-(-1)**(m+n))/((np.pi**2)*m*n)\n",
    "    return 4*(term1+term2+term3+term4)"
   ]
  },
  {
   "cell_type": "code",
   "execution_count": 14,
   "id": "0ffe15f8",
   "metadata": {},
   "outputs": [],
   "source": [
    "def cuboidTemperatureDistribution(Ty1,Tz1,Tz2,L1,L2,L3,x,y,z,k,q,terms=1000):\n",
    "    \n",
    "    def amn(Ty1,Tz1,Tz2,L3,k,q,m,n):\n",
    "        term1 = (q*L3**3)*(((-1)**m)+(-1)**n+(-1)**(m+n)-1)/((np.pi**4)*(m**3)*k*n)\n",
    "        term2 = (Ty1)*((-(-1)**m)-(-1)**n+(-1)**(m+n)+1)/((np.pi**2)*m*n)\n",
    "        term3 = (Tz1)*((-1)**n-1)/((np.pi**2)*m*n)\n",
    "        term4 = (Tz2)*((-1)**m-(-1)**(m+n))/((np.pi**2)*m*n)\n",
    "        return 4*(term1+term2+term3+term4)\n",
    "    \n",
    "    x = 0\n",
    "    for m in range(1,terms):\n",
    "        for n in range(1,terms):\n",
    "            t = ((m**2)+(n**2))**0.5\n",
    "            term1 = amn(Ty1,Tz1,Tz2,L3,k,q,m,n)\n",
    "            term2 = mp.sinh(t*(L2-y))/ mp.sinh(t*L2)\n",
    "            term3 = mp.sin(n*mp.pi*x/L1)*mp.sin(m*mp.pi*z/L3)\n",
    "            x += term1*term2*term3\n",
    "            \n",
    "    V_z = (Tz1 + (q/(2*k))*z*(L3-z) + (Tz2-Tz1)*(z/L3))\n",
    "            \n",
    "    return x + V_z\n",
    "           \n",
    "            \n",
    "            \n",
    "    "
   ]
  },
  {
   "cell_type": "code",
   "execution_count": 25,
   "id": "d7ff8895",
   "metadata": {},
   "outputs": [
    {
     "data": {
      "text/plain": [
       "mpf('310.0')"
      ]
     },
     "execution_count": 25,
     "metadata": {},
     "output_type": "execute_result"
    }
   ],
   "source": [
    "cuboidTemperatureDistribution(500,300,320,0.5,0.5,0.5,0,0.25,0.25,100,0,terms = 100)\n",
    "    "
   ]
  },
  {
   "cell_type": "code",
   "execution_count": null,
   "id": "719b348b",
   "metadata": {},
   "outputs": [],
   "source": []
  }
 ],
 "metadata": {
  "kernelspec": {
   "display_name": "Python 3 (ipykernel)",
   "language": "python",
   "name": "python3"
  },
  "language_info": {
   "codemirror_mode": {
    "name": "ipython",
    "version": 3
   },
   "file_extension": ".py",
   "mimetype": "text/x-python",
   "name": "python",
   "nbconvert_exporter": "python",
   "pygments_lexer": "ipython3",
   "version": "3.9.7"
  }
 },
 "nbformat": 4,
 "nbformat_minor": 5
}
