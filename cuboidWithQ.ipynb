{
 "cells": [
  {
   "cell_type": "code",
   "execution_count": 1,
   "id": "0903a1a2",
   "metadata": {},
   "outputs": [],
   "source": [
    "import numpy as np\n",
    "import matplotlib.pyplot as plt\n",
    "from scipy.special import i0\n",
    "import pandas as pd\n",
    "import sympy as sp\n",
    "import mpmath as mp\n",
    "%matplotlib inline"
   ]
  },
  {
   "cell_type": "code",
   "execution_count": 19,
   "id": "621cab2a",
   "metadata": {},
   "outputs": [],
   "source": [
    "L1, L2, L3,T0, q, k, x, y = sp.symbols('L1 L2 L3 T0 q k x y') # Defining the symbols\n",
    "n,m = sp.symbols('n m', integer = True) # Defining the m and as integers for the simplifications of solution"
   ]
  },
  {
   "cell_type": "code",
   "execution_count": 20,
   "id": "1e03f3d0",
   "metadata": {},
   "outputs": [
    {
     "data": {
      "text/latex": [
       "$\\displaystyle \\frac{q x \\left(L_{1} - x\\right)}{2 k}$"
      ],
      "text/plain": [
       "q*x*(L1 - x)/(2*k)"
      ]
     },
     "execution_count": 20,
     "metadata": {},
     "output_type": "execute_result"
    }
   ],
   "source": [
    "v = (q/(2*k))*x*(L1-x)\n",
    "v"
   ]
  },
  {
   "cell_type": "code",
   "execution_count": 21,
   "id": "350a9726",
   "metadata": {},
   "outputs": [
    {
     "data": {
      "text/latex": [
       "$\\displaystyle \\left(T_{0} - \\frac{q x \\left(L_{1} - x\\right)}{2 k}\\right) \\sin{\\left(\\frac{\\pi m x}{L_{1}} \\right)} \\sin{\\left(\\frac{\\pi n y}{L_{2}} \\right)}$"
      ],
      "text/plain": [
       "(T0 - q*x*(L1 - x)/(2*k))*sin(pi*m*x/L1)*sin(pi*n*y/L2)"
      ]
     },
     "execution_count": 21,
     "metadata": {},
     "output_type": "execute_result"
    }
   ],
   "source": [
    "f = (T0-v)*sp.sin((n*sp.pi*y)/L2)*sp.sin((m*sp.pi*x)/L1)\n",
    "f"
   ]
  },
  {
   "cell_type": "code",
   "execution_count": 22,
   "id": "8119e3d2",
   "metadata": {},
   "outputs": [
    {
     "data": {
      "text/latex": [
       "$\\displaystyle \\begin{cases} \\frac{L_{1} L_{2} \\left(L_{1}^{2} q - \\pi^{2} T_{0} k m^{2}\\right) \\left(\\left(-1\\right)^{m} + \\left(-1\\right)^{n} - \\left(-1\\right)^{m + n} - 1\\right)}{\\pi^{4} k m^{3} n} & \\text{for}\\: m \\neq 0 \\wedge \\frac{\\pi n}{L_{2}} \\neq 0 \\\\0 & \\text{otherwise} \\end{cases}$"
      ],
      "text/plain": [
       "Piecewise((L1*L2*(L1**2*q - pi**2*T0*k*m**2)*((-1)**m + (-1)**n - (-1)**(m + n) - 1)/(pi**4*k*m**3*n), Ne(m, 0) & Ne(pi*n/L2, 0)), (0, True))"
      ]
     },
     "execution_count": 22,
     "metadata": {},
     "output_type": "execute_result"
    }
   ],
   "source": [
    "sp.simplify(sp.integrate(f, (x, 0, L1), (y, 0, L2)))"
   ]
  },
  {
   "cell_type": "code",
   "execution_count": 4,
   "id": "c9ef4c23",
   "metadata": {},
   "outputs": [],
   "source": [
    "def cuboidTemperatureDistribution(terms,x,L1,y,L2,z,L3,T,q,k):\n",
    "    def cuboidTemperatureDistributionH(m,n,x,L1,y,L2,z,L3,T):\n",
    "        kmn = (((2*m+1)*np.pi/L1)**2 + ((2*n+1)*np.pi/L2)**2)**0.5\n",
    "        term1 = 16*(T*k*(np.pi**2)*((2*m+1)**2) - q*L1**2)/((2*n+1)*k*((2*m+1)**3)*np.pi**4)\n",
    "        term2 = mp.sin((2*m+1)*np.pi*x/L1)\n",
    "        term3 = mp.sin((2*n+1)*np.pi*y/L2)\n",
    "        x = mp.sinh(kmn*z)\n",
    "        y = mp.sinh(kmn*L3)\n",
    "        term4 = x/y\n",
    "        \n",
    "        return term1*term2*term3*term4\n",
    "    ans = 0\n",
    "    for i in range(terms) :\n",
    "        for j in range(terms):\n",
    "            ans += cuboidTemperatureDistributionH(i,j,x,L1,y,L2,z,L3,T)\n",
    "    return ans + (q/(2*k))*x*(L1-x)"
   ]
  },
  {
   "cell_type": "code",
   "execution_count": 24,
   "id": "4a3ae41e",
   "metadata": {},
   "outputs": [
    {
     "data": {
      "text/plain": [
       "mpf('355.18684087417705')"
      ]
     },
     "execution_count": 24,
     "metadata": {},
     "output_type": "execute_result"
    }
   ],
   "source": [
    "cuboidTemperatureDistribution(1000,0.3,0.5,0.3,0.5,0.5,0.5,300,0,50)"
   ]
  },
  {
   "cell_type": "code",
   "execution_count": 30,
   "id": "08e675f0",
   "metadata": {},
   "outputs": [
    {
     "data": {
      "text/plain": [
       "[<matplotlib.lines.Line2D at 0x1fe679a05e0>]"
      ]
     },
     "execution_count": 30,
     "metadata": {},
     "output_type": "execute_result"
    },
    {
     "data": {
      "image/png": "[encoded data removed]",
      "text/plain": [
       "<Figure size 432x288 with 1 Axes>"
      ]
     },
     "metadata": {
      "needs_background": "light"
     },
     "output_type": "display_data"
    }
   ],
   "source": [
    "x = np.arange(200)\n",
    "z = []\n",
    "for i in x :\n",
    "    z.append(cuboidTemperatureDistribution(i,0.3,0.5,0.3,0.5,0.5,0.5,300,0,50))\n",
    "plt.plot(x,z)"
   ]
  },
  {
   "cell_type": "code",
   "execution_count": 31,
   "id": "3b9d50eb",
   "metadata": {},
   "outputs": [
    {
     "data": {
      "text/plain": [
       "[<matplotlib.lines.Line2D at 0x1fe67a0e730>]"
      ]
     },
     "execution_count": 31,
     "metadata": {},
     "output_type": "execute_result"
    },
    {
     "data": {
      "image/png": "[encoded data removed]",
      "text/plain": [
       "<Figure size 432x288 with 1 Axes>"
      ]
     },
     "metadata": {
      "needs_background": "light"
     },
     "output_type": "display_data"
    }
   ],
   "source": [
    "x = np.arange(200)\n",
    "z = []\n",
    "for i in x :\n",
    "    z.append(cuboidTemperatureDistribution(i,0.3,0.5,0.3,0.5,0.5,0.5,300,1000,50))\n",
    "plt.plot(x,z)"
   ]
  },
  {
   "cell_type": "code",
   "execution_count": 43,
   "id": "33760408",
   "metadata": {},
   "outputs": [
    {
     "data": {
      "text/plain": [
       "[<matplotlib.lines.Line2D at 0x1fe6bd7e400>]"
      ]
     },
     "execution_count": 43,
     "metadata": {},
     "output_type": "execute_result"
    },
    {
     "data": {
      "image/png": "[encoded data removed]",
      "text/plain": [
       "<Figure size 432x288 with 1 Axes>"
      ]
     },
     "metadata": {
      "needs_background": "light"
     },
     "output_type": "display_data"
    }
   ],
   "source": [
    "x = 0.25 # Position in x \n",
    "L1 = 0.5 # Max x for the cuboid \n",
    "y = 0.25 # Position in y \n",
    "L2 = 0.5 # Max y for the cuboid \n",
    "L3 = 0.5 # Max z for the cuboid \n",
    "T = 300 # Temperature at the Z = 0 Plane i.e The Boundary Condition\n",
    "q = 0 \n",
    "k = 50\n",
    "terms = 200\n",
    "z1 = np.linspace(0,L3,100)\n",
    "tempz1 = []\n",
    "for i in z :\n",
    "    tempz1.append(cuboidTemperatureDistribution(terms,x,L1,y,L2,i,L3,T,q,k))\n",
    "plt.plot(z1,tempz1)"
   ]
  },
  {
   "cell_type": "code",
   "execution_count": 44,
   "id": "ef2531ee",
   "metadata": {},
   "outputs": [
    {
     "data": {
      "text/plain": [
       "[<matplotlib.lines.Line2D at 0x1fe6bb32580>]"
      ]
     },
     "execution_count": 44,
     "metadata": {},
     "output_type": "execute_result"
    },
    {
     "data": {
      "image/png": "[encoded data removed]",
      "text/plain": [
       "<Figure size 432x288 with 1 Axes>"
      ]
     },
     "metadata": {
      "needs_background": "light"
     },
     "output_type": "display_data"
    }
   ],
   "source": [
    "x = 0.25 # Position in x \n",
    "L1 = 0.5 # Max x for the cuboid \n",
    "y = 0.25 # Position in y \n",
    "L2 = 0.5 # Max y for the cuboid \n",
    "L3 = 0.5 # Max z for the cuboid \n",
    "T = 300 # Temperature at the Z = 0 Plane i.e The Boundary Condition\n",
    "q = 1000 \n",
    "k = 50\n",
    "terms = 200\n",
    "z = np.linspace(0,L3,100)\n",
    "tempz = []\n",
    "for i in z :\n",
    "    tempz.append(cuboidTemperatureDistribution(terms,x,L1,y,L2,i,L3,T,q,k))\n",
    "plt.plot(z,tempz)"
   ]
  },
  {
   "cell_type": "code",
   "execution_count": 11,
   "id": "589dad15",
   "metadata": {},
   "outputs": [],
   "source": [
    "df = pd.read_excel(\"cuboidzQ1000.xlsx\")"
   ]
  },
  {
   "cell_type": "code",
   "execution_count": 51,
   "id": "845168dc",
   "metadata": {},
   "outputs": [
    {
     "data": {
      "text/plain": [
       "[<matplotlib.lines.Line2D at 0x1fe6db8a7f0>]"
      ]
     },
     "execution_count": 51,
     "metadata": {},
     "output_type": "execute_result"
    },
    {
     "data": {
      "image/png": "[encoded data removed]",
      "text/plain": [
       "<Figure size 432x288 with 1 Axes>"
      ]
     },
     "metadata": {
      "needs_background": "light"
     },
     "output_type": "display_data"
    }
   ],
   "source": [
    "plt.plot(df[\"Z \"],df[\"T\"])\n",
    "plt.plot(z,tempz)\n",
    "plt.plot(z1,tempz1)\n",
    "plt.plot(df[\"Z1\"],df[\"T1\"])"
   ]
  },
  {
   "cell_type": "code",
   "execution_count": 50,
   "id": "b56233ef",
   "metadata": {},
   "outputs": [
    {
     "data": {
      "text/plain": [
       "Index(['Z ', 'T', 'Z1', 'T1'], dtype='object')"
      ]
     },
     "execution_count": 50,
     "metadata": {},
     "output_type": "execute_result"
    }
   ],
   "source": [
    "df.columns"
   ]
  },
  {
   "cell_type": "code",
   "execution_count": 8,
   "id": "9818936d",
   "metadata": {},
   "outputs": [
    {
     "data": {
      "text/plain": [
       "mpf('50.445467799410608')"
      ]
     },
     "execution_count": 8,
     "metadata": {},
     "output_type": "execute_result"
    }
   ],
   "source": [
    "x = 0.25 # Position in x \n",
    "L1 = 0.5 # Max x for the cuboid \n",
    "y = 0.25 # Position in y \n",
    "L2 = 0.5 # Max y for the cuboid \n",
    "z = 0.25\n",
    "L3 = 0.5 # Max z for the cuboid \n",
    "T = 300 # Temperature at the Z = 0 Plane i.e The Boundary Condition\n",
    "q = 1000 \n",
    "k = 60.5\n",
    "cuboidTemperatureDistribution(300,x,L1,y,L2,z,L3,T,q,k)"
   ]
  },
  {
   "cell_type": "code",
   "execution_count": 54,
   "id": "27765681",
   "metadata": {},
   "outputs": [
    {
     "data": {
      "text/plain": [
       "mpf('50.000000000000014')"
      ]
     },
     "execution_count": 54,
     "metadata": {},
     "output_type": "execute_result"
    }
   ],
   "source": [
    "x = 0.25 # Position in x \n",
    "L1 = 0.5 # Max x for the cuboid \n",
    "y = 0.25 # Position in y \n",
    "L2 = 0.5 # Max y for the cuboid \n",
    "z = 0.25\n",
    "L3 = 0.5 # Max z for the cuboid \n",
    "T = 300 # Temperature at the Z = 0 Plane i.e The Boundary Condition\n",
    "q = 0 \n",
    "k = 50\n",
    "cuboidTemperatureDistribution(terms,x,L1,y,L2,z,L3,T,q,k)"
   ]
  },
  {
   "cell_type": "code",
   "execution_count": 5,
   "id": "78edc71d",
   "metadata": {},
   "outputs": [
    {
     "data": {
      "text/plain": [
       "mpf('94.546779941057366')"
      ]
     },
     "execution_count": 5,
     "metadata": {},
     "output_type": "execute_result"
    }
   ],
   "source": [
    "x = 0.25 # Position in x \n",
    "L1 = 0.5 # Max x for the cuboid \n",
    "y = 0.25 # Position in y \n",
    "L2 = 0.5 # Max y for the cuboid \n",
    "z = 0.25\n",
    "L3 = 0.5 # Max z for the cuboid \n",
    "T = 300 # Temperature at the Z = 0 Plane i.e The Boundary Condition\n",
    "q = 100000 \n",
    "k = 60.5\n",
    "cuboidTemperatureDistribution(200,x,L1,y,L2,z,L3,T,q,k)"
   ]
  },
  {
   "cell_type": "code",
   "execution_count": 9,
   "id": "616d26ca",
   "metadata": {},
   "outputs": [
    {
     "data": {
      "text/plain": [
       "[<matplotlib.lines.Line2D at 0x2757423f550>]"
      ]
     },
     "execution_count": 9,
     "metadata": {},
     "output_type": "execute_result"
    },
    {
     "data": {
      "image/png": "[encoded data removed]",
      "text/plain": [
       "<Figure size 432x288 with 1 Axes>"
      ]
     },
     "metadata": {
      "needs_background": "light"
     },
     "output_type": "display_data"
    }
   ],
   "source": [
    "x = 0.25 # Position in x \n",
    "L1 = 0.5 # Max x for the cuboid \n",
    "y = 0.25 # Position in y \n",
    "L2 = 0.5 # Max y for the cuboid \n",
    "L3 = 0.5 # Max z for the cuboid \n",
    "T = 300 # Temperature at the Z = 0 Plane i.e The Boundary Condition\n",
    "q = 100000 \n",
    "k = 60.5\n",
    "terms = 200\n",
    "z = np.linspace(0,L3,100)\n",
    "tempz = []\n",
    "for i in z :\n",
    "    tempz.append(cuboidTemperatureDistribution(terms,x,L1,y,L2,i,L3,T,q,k))\n",
    "plt.plot(z,tempz)"
   ]
  },
  {
   "cell_type": "code",
   "execution_count": 12,
   "id": "5637302b",
   "metadata": {},
   "outputs": [
    {
     "data": {
      "text/plain": [
       "[<matplotlib.lines.Line2D at 0x27576b56850>]"
      ]
     },
     "execution_count": 12,
     "metadata": {},
     "output_type": "execute_result"
    },
    {
     "data": {
      "image/png": "[encoded data removed]",
      "text/plain": [
       "<Figure size 432x288 with 1 Axes>"
      ]
     },
     "metadata": {
      "needs_background": "light"
     },
     "output_type": "display_data"
    }
   ],
   "source": [
    "plt.plot(z,tempz)\n",
    "plt.plot(df[\"Z1\"],df[\"T1\"])"
   ]
  },
  {
   "cell_type": "code",
   "execution_count": null,
   "id": "00243459",
   "metadata": {},
   "outputs": [],
   "source": []
  }
 ],
 "metadata": {
  "kernelspec": {
   "display_name": "Python 3 (ipykernel)",
   "language": "python",
   "name": "python3"
  },
  "language_info": {
   "codemirror_mode": {
    "name": "ipython",
    "version": 3
   },
   "file_extension": ".py",
   "mimetype": "text/x-python",
   "name": "python",
   "nbconvert_exporter": "python",
   "pygments_lexer": "ipython3",
   "version": "3.9.7"
  }
 },
 "nbformat": 4,
 "nbformat_minor": 5
}
