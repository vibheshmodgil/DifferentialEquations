{
 "cells": [
  {
   "cell_type": "code",
   "execution_count": 1,
   "id": "7890e4e8",
   "metadata": {},
   "outputs": [],
   "source": [
    "import numpy as np"
   ]
  },
  {
   "cell_type": "code",
   "execution_count": 13,
   "id": "0eec68da",
   "metadata": {},
   "outputs": [],
   "source": [
    "def calculationMatrix(connectivity):\n",
    "    A = np.zeros((len(connectivity),len(connectivity)))\n",
    "    B = np.zeros((len(connectivity),1))\n",
    "    for i range(1,len(connectivity)+1):\n",
    "        \n",
    "        for j in range(len(connectivity[i])):\n",
    "            if len(connectivity[i][j]) == 2 :\n",
    "                A[i][connectivity[i][j][1]] = -1*connectivity[i][j][2]\n",
    "            else :\n",
    "                B[i] += B[i] + connectivity[i][j][1]*connectivity[i][j][2]\n",
    "        \n",
    "    \n",
    "    "
   ]
  },
  {
   "cell_type": "code",
   "execution_count": 2,
   "id": "f4392c29",
   "metadata": {},
   "outputs": [],
   "source": [
    "L1 = 0.1\n",
    "L2 = 0.2 \n",
    "L3 = 0.3 \n",
    "k = 60.5"
   ]
  },
  {
   "cell_type": "code",
   "execution_count": 4,
   "id": "326e2086",
   "metadata": {},
   "outputs": [],
   "source": [
    "G = k*(L2*L3)/L1"
   ]
  },
  {
   "cell_type": "code",
   "execution_count": 9,
   "id": "c1904541",
   "metadata": {},
   "outputs": [],
   "source": [
    "connectivity = {}\n",
    "connectivity[1] = [[3,2*G,300],[4,2*G,300],[2,-6*G]]\n",
    "connectivity[2] = [[1,2*G]]"
   ]
  },
  {
   "cell_type": "code",
   "execution_count": 10,
   "id": "219830fd",
   "metadata": {},
   "outputs": [
    {
     "data": {
      "text/plain": [
       "{1: [[3, 72.6, 300], [4, 72.6, 300], [2, -217.79999999999998]], 2: [[1, 72.6]]}"
      ]
     },
     "execution_count": 10,
     "metadata": {},
     "output_type": "execute_result"
    }
   ],
   "source": [
    "connectivity"
   ]
  },
  {
   "cell_type": "code",
   "execution_count": 11,
   "id": "274e62a8",
   "metadata": {},
   "outputs": [
    {
     "data": {
      "text/plain": [
       "2"
      ]
     },
     "execution_count": 11,
     "metadata": {},
     "output_type": "execute_result"
    }
   ],
   "source": [
    "len(connectivity)"
   ]
  },
  {
   "cell_type": "code",
   "execution_count": 14,
   "id": "21f7a51e",
   "metadata": {},
   "outputs": [],
   "source": [
    "A = np.zeros((len(connectivity),len(connectivity)))"
   ]
  },
  {
   "cell_type": "code",
   "execution_count": 15,
   "id": "e8ff9465",
   "metadata": {},
   "outputs": [
    {
     "data": {
      "text/plain": [
       "array([[0., 0.],\n",
       "       [0., 0.]])"
      ]
     },
     "execution_count": 15,
     "metadata": {},
     "output_type": "execute_result"
    }
   ],
   "source": [
    "A"
   ]
  },
  {
   "cell_type": "code",
   "execution_count": 16,
   "id": "d1eeba6b",
   "metadata": {},
   "outputs": [],
   "source": [
    "B = np.zeros((len(connectivity),1))"
   ]
  },
  {
   "cell_type": "code",
   "execution_count": 18,
   "id": "199f5c4d",
   "metadata": {},
   "outputs": [
    {
     "data": {
      "text/plain": [
       "array([[0.],\n",
       "       [0.]])"
      ]
     },
     "execution_count": 18,
     "metadata": {},
     "output_type": "execute_result"
    }
   ],
   "source": [
    "    B"
   ]
  },
  {
   "cell_type": "code",
   "execution_count": 19,
   "id": "0a4f3968",
   "metadata": {},
   "outputs": [
    {
     "data": {
      "text/plain": [
       "3"
      ]
     },
     "execution_count": 19,
     "metadata": {},
     "output_type": "execute_result"
    }
   ],
   "source": [
    "len(connectivity[1])"
   ]
  },
  {
   "cell_type": "code",
   "execution_count": 21,
   "id": "6cbc370a",
   "metadata": {},
   "outputs": [
    {
     "data": {
      "text/plain": [
       "3"
      ]
     },
     "execution_count": 21,
     "metadata": {},
     "output_type": "execute_result"
    }
   ],
   "source": [
    "len(connectivity[1][1])"
   ]
  },
  {
   "cell_type": "code",
   "execution_count": null,
   "id": "f3e2fa8b",
   "metadata": {},
   "outputs": [],
   "source": []
  }
 ],
 "metadata": {
  "kernelspec": {
   "display_name": "Python 3 (ipykernel)",
   "language": "python",
   "name": "python3"
  },
  "language_info": {
   "codemirror_mode": {
    "name": "ipython",
    "version": 3
   },
   "file_extension": ".py",
   "mimetype": "text/x-python",
   "name": "python",
   "nbconvert_exporter": "python",
   "pygments_lexer": "ipython3",
   "version": "3.9.7"
  }
 },
 "nbformat": 4,
 "nbformat_minor": 5
}
