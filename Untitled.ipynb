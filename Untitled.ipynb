{
 "cells": [
  {
   "cell_type": "code",
   "execution_count": 1,
   "id": "772df362",
   "metadata": {},
   "outputs": [],
   "source": [
    "import mpmath as mp\n",
    "import numpy as np"
   ]
  },
  {
   "cell_type": "code",
   "execution_count": 2,
   "id": "d40cbfb7",
   "metadata": {},
   "outputs": [
    {
     "data": {
      "text/plain": [
       "15"
      ]
     },
     "execution_count": 2,
     "metadata": {},
     "output_type": "execute_result"
    }
   ],
   "source": [
    "mp.mp.dps"
   ]
  },
  {
   "cell_type": "code",
   "execution_count": 3,
   "id": "3910986e",
   "metadata": {},
   "outputs": [
    {
     "name": "stdout",
     "output_type": "stream",
     "text": [
      "1\n"
     ]
    }
   ],
   "source": [
    "x = float(1)\n",
    "print(1)"
   ]
  },
  {
   "cell_type": "code",
   "execution_count": 5,
   "id": "8fc37f88",
   "metadata": {},
   "outputs": [],
   "source": [
    "x = mp.mpf(1)"
   ]
  },
  {
   "cell_type": "code",
   "execution_count": null,
   "id": "73249f59",
   "metadata": {},
   "outputs": [],
   "source": [
    "x+1"
   ]
  },
  {
   "cell_type": "code",
   "execution_count": null,
   "id": "612bd5c1",
   "metadata": {},
   "outputs": [],
   "source": [
    "exp(10e10)"
   ]
  },
  {
   "cell_type": "code",
   "execution_count": null,
   "id": "870e368e",
   "metadata": {},
   "outputs": [],
   "source": [
    "np.exp(10e10)"
   ]
  },
  {
   "cell_type": "code",
   "execution_count": null,
   "id": "4396828c",
   "metadata": {},
   "outputs": [],
   "source": [
    "sinh(1)"
   ]
  },
  {
   "cell_type": "code",
   "execution_count": null,
   "id": "0d76ca93",
   "metadata": {},
   "outputs": [],
   "source": []
  }
 ],
 "metadata": {
  "kernelspec": {
   "display_name": "Python 3 (ipykernel)",
   "language": "python",
   "name": "python3"
  },
  "language_info": {
   "codemirror_mode": {
    "name": "ipython",
    "version": 3
   },
   "file_extension": ".py",
   "mimetype": "text/x-python",
   "name": "python",
   "nbconvert_exporter": "python",
   "pygments_lexer": "ipython3",
   "version": "3.9.7"
  }
 },
 "nbformat": 4,
 "nbformat_minor": 5
}
